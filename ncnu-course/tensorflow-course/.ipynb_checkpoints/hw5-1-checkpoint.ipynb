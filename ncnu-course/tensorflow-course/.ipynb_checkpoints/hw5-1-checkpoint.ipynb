{
 "cells": [
  {
   "cell_type": "code",
   "execution_count": 1,
   "metadata": {},
   "outputs": [
    {
     "name": "stderr",
     "output_type": "stream",
     "text": [
      "Using TensorFlow backend.\n"
     ]
    }
   ],
   "source": [
    "import numpy as np\n",
    "import tensorflow as tf\n",
    "from keras.datasets import mnist\n",
    "from keras.utils import np_utils"
   ]
  },
  {
   "cell_type": "code",
   "execution_count": 3,
   "metadata": {},
   "outputs": [],
   "source": [
    "(xTrain, yTrain), (xTest,yTest) = mnist.load_data()\n",
    "xTrain2D_1 = xTrain.reshape(xTrain.shape[0],28*28).astype('float32')\n",
    "xTest2D_1 = xTest.reshape(xTest.shape[0],28*28).astype('float32')\n",
    "xTrain2D = xTrain2D_1/255\n",
    "xTest2D = xTest2D_1/255\n",
    "yTrain_1 = np_utils.to_categorical(yTrain)\n",
    "yTest_1 = np_utils.to_categorical(yTest)"
   ]
  },
  {
   "cell_type": "code",
   "execution_count": 5,
   "metadata": {},
   "outputs": [],
   "source": [
    "NumTrainBch = 1000\n",
    "NumTestBch = 10\n",
    "trainPixels = np.zeros((NumTrainBch,xTrain2D.shape[1]))\n",
    "testPixels = np.zeros((NumTestBch,xTest2D.shape[1]))\n",
    "trainListValues = np.zeros((NumTrainBch,yTrain_1.shape[1]))\n",
    "testListOfValues = np.zeros((NumTestBch,yTest_1.shape[1]))"
   ]
  },
  {
   "cell_type": "code",
   "execution_count": 6,
   "metadata": {},
   "outputs": [],
   "source": [
    "trainPixels = xTrain2D[0:NumTrainBch-1,:]\n",
    "testPixels = xTest2D[0:NumTestBch-1,:]\n",
    "trainListValues = yTrain_1[0:NumTrainBch-1,:]\n",
    "testListOfValues = yTest_1[0:NumTestBch-1,:]"
   ]
  },
  {
   "cell_type": "code",
   "execution_count": 7,
   "metadata": {},
   "outputs": [],
   "source": [
    "trainPixelTensor = tf.placeholder(\"float\",[None,784])\n",
    "testPixelTensor = tf.placeholder(\"float\",[784])"
   ]
  },
  {
   "cell_type": "code",
   "execution_count": 9,
   "metadata": {},
   "outputs": [],
   "source": [
    "distance = tf.reduce_sum(tf.abs(tf.add(trainPixelTensor,tf.negative(testPixelTensor))),reduction_indices=1)\n",
    "pred = tf.argmin(distance,0)"
   ]
  },
  {
   "cell_type": "code",
   "execution_count": null,
   "metadata": {},
   "outputs": [],
   "source": [
    "accuracy = 0\n",
    "init = tf.global_variable_initializer()\n",
    "with tf.Session() as sess:\n",
    "    sess.run(init)\n",
    "    for i in range(len(testListOfValues)):\n",
    "        nn_index = sess.run(pred,feed_dict={trainPixelTensor:trainPixels,testPixelTensor:testPixels[i,:]})\n",
    "        print(\"Test N?\",i,\"Predicted Class: \", np.argmax(trainListValues[nn_index]),\"True Class: \", np.argmax(testListOfValues[i]))\n",
    "        if(np.argmax(trainListValues[nn_index]) == np.argmax())"
   ]
  }
 ],
 "metadata": {
  "kernelspec": {
   "display_name": "Python 3",
   "language": "python",
   "name": "python3"
  },
  "language_info": {
   "codemirror_mode": {
    "name": "ipython",
    "version": 3
   },
   "file_extension": ".py",
   "mimetype": "text/x-python",
   "name": "python",
   "nbconvert_exporter": "python",
   "pygments_lexer": "ipython3",
   "version": "3.6.7"
  }
 },
 "nbformat": 4,
 "nbformat_minor": 2
}
